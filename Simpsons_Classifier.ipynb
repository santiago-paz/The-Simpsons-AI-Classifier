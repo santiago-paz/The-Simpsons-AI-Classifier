{
  "nbformat": 4,
  "nbformat_minor": 0,
  "metadata": {
    "colab": {
      "name": "Simpsons Classifier",
      "provenance": [],
      "collapsed_sections": []
    },
    "kernelspec": {
      "name": "python3",
      "display_name": "Python 3"
    },
    "accelerator": "GPU",
    "widgets": {
      "application/vnd.jupyter.widget-state+json": {
        "8936f52a6b884cf5a110f6bde668bae5": {
          "model_module": "@jupyter-widgets/controls",
          "model_name": "VBoxModel",
          "state": {
            "_view_name": "VBoxView",
            "_dom_classes": [],
            "_model_name": "VBoxModel",
            "_view_module": "@jupyter-widgets/controls",
            "_model_module_version": "1.5.0",
            "_view_count": null,
            "_view_module_version": "1.5.0",
            "box_style": "",
            "layout": "IPY_MODEL_c7d84dc3779c44da95a5e2c3a55bd789",
            "_model_module": "@jupyter-widgets/controls",
            "children": [
              "IPY_MODEL_a0326c8372f74009a9282a3db7970418",
              "IPY_MODEL_319a8356c4844a4fa27d3ec44432d610",
              "IPY_MODEL_7b744b8acebb4f17b93f9aabf253cacd",
              "IPY_MODEL_e722e89de09e41eeb328c4d6487264a0",
              "IPY_MODEL_4c190904ce6345fa96cb0305fafb4783"
            ]
          }
        },
        "c7d84dc3779c44da95a5e2c3a55bd789": {
          "model_module": "@jupyter-widgets/base",
          "model_name": "LayoutModel",
          "state": {
            "_view_name": "LayoutView",
            "grid_template_rows": null,
            "right": null,
            "justify_content": null,
            "_view_module": "@jupyter-widgets/base",
            "overflow": null,
            "_model_module_version": "1.2.0",
            "_view_count": null,
            "flex_flow": null,
            "width": null,
            "min_width": null,
            "border": null,
            "align_items": null,
            "bottom": null,
            "_model_module": "@jupyter-widgets/base",
            "top": null,
            "grid_column": null,
            "overflow_y": null,
            "overflow_x": null,
            "grid_auto_flow": null,
            "grid_area": null,
            "grid_template_columns": null,
            "flex": null,
            "_model_name": "LayoutModel",
            "justify_items": null,
            "grid_row": null,
            "max_height": null,
            "align_content": null,
            "visibility": null,
            "align_self": null,
            "height": null,
            "min_height": null,
            "padding": null,
            "grid_auto_rows": null,
            "grid_gap": null,
            "max_width": null,
            "order": null,
            "_view_module_version": "1.2.0",
            "grid_template_areas": null,
            "object_position": null,
            "object_fit": null,
            "grid_auto_columns": null,
            "margin": null,
            "display": null,
            "left": null
          }
        },
        "a0326c8372f74009a9282a3db7970418": {
          "model_module": "@jupyter-widgets/controls",
          "model_name": "LabelModel",
          "state": {
            "_view_name": "LabelView",
            "style": "IPY_MODEL_6c9adbb23c8140639d11e94e72c4aa37",
            "_dom_classes": [],
            "description": "",
            "_model_name": "LabelModel",
            "placeholder": "​",
            "_view_module": "@jupyter-widgets/controls",
            "_model_module_version": "1.5.0",
            "value": "Upload your Simpson character!",
            "_view_count": null,
            "_view_module_version": "1.5.0",
            "description_tooltip": null,
            "_model_module": "@jupyter-widgets/controls",
            "layout": "IPY_MODEL_564f24de1c5c476aaafe2e330a7db3d8"
          }
        },
        "319a8356c4844a4fa27d3ec44432d610": {
          "model_module": "@jupyter-widgets/controls",
          "model_name": "FileUploadModel",
          "state": {
            "_view_name": "FileUploadView",
            "_counter": 1,
            "style": "IPY_MODEL_c4ffd45d454446b8a914a0a389e1d557",
            "_dom_classes": [],
            "description": "Upload",
            "multiple": false,
            "_model_name": "FileUploadModel",
            "data": [
              null
            ],
            "button_style": "",
            "_view_module": "@jupyter-widgets/controls",
            "_model_module_version": "1.5.0",
            "accept": "",
            "_view_count": null,
            "disabled": false,
            "_view_module_version": "1.5.0",
            "error": "",
            "description_tooltip": null,
            "metadata": [
              {
                "name": "bart-860-768x402.png",
                "type": "image/png",
                "size": 412347,
                "lastModified": 1602457237823
              }
            ],
            "_model_module": "@jupyter-widgets/controls",
            "layout": "IPY_MODEL_74d39bb926e94518aa3e17730396a133",
            "icon": "upload"
          }
        },
        "7b744b8acebb4f17b93f9aabf253cacd": {
          "model_module": "@jupyter-widgets/controls",
          "model_name": "ButtonModel",
          "state": {
            "_view_name": "ButtonView",
            "style": "IPY_MODEL_5eb3862d80024324bdf137697bef063a",
            "_dom_classes": [],
            "description": "Classify",
            "_model_name": "ButtonModel",
            "button_style": "",
            "_view_module": "@jupyter-widgets/controls",
            "_model_module_version": "1.5.0",
            "tooltip": "",
            "_view_count": null,
            "disabled": false,
            "_view_module_version": "1.5.0",
            "layout": "IPY_MODEL_b1a4b10ceb9e4fa48c6261b881946dd5",
            "_model_module": "@jupyter-widgets/controls",
            "icon": ""
          }
        },
        "e722e89de09e41eeb328c4d6487264a0": {
          "model_module": "@jupyter-widgets/output",
          "model_name": "OutputModel",
          "state": {
            "_view_name": "OutputView",
            "msg_id": "",
            "_dom_classes": [],
            "_model_name": "OutputModel",
            "outputs": [
              {
                "output_type": "display_data",
                "metadata": {
                  "tags": []
                },
                "image/png": "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\n",
                "text/plain": "<PIL.Image.Image image mode=RGB size=128x67 at 0x7FAB327CBB70>"
              }
            ],
            "_view_module": "@jupyter-widgets/output",
            "_model_module_version": "1.0.0",
            "_view_count": null,
            "_view_module_version": "1.0.0",
            "layout": "IPY_MODEL_7388bbb6c8b14a79bd6938066a250810",
            "_model_module": "@jupyter-widgets/output"
          }
        },
        "4c190904ce6345fa96cb0305fafb4783": {
          "model_module": "@jupyter-widgets/controls",
          "model_name": "LabelModel",
          "state": {
            "_view_name": "LabelView",
            "style": "IPY_MODEL_4120c05202b84f958e7b88bf8189f8b3",
            "_dom_classes": [],
            "description": "",
            "_model_name": "LabelModel",
            "placeholder": "​",
            "_view_module": "@jupyter-widgets/controls",
            "_model_module_version": "1.5.0",
            "value": "Prediction: bart; Probability: 0.9120",
            "_view_count": null,
            "_view_module_version": "1.5.0",
            "description_tooltip": null,
            "_model_module": "@jupyter-widgets/controls",
            "layout": "IPY_MODEL_c3b05cdde86a44b59474c02b431c2166"
          }
        },
        "6c9adbb23c8140639d11e94e72c4aa37": {
          "model_module": "@jupyter-widgets/controls",
          "model_name": "DescriptionStyleModel",
          "state": {
            "_view_name": "StyleView",
            "_model_name": "DescriptionStyleModel",
            "description_width": "",
            "_view_module": "@jupyter-widgets/base",
            "_model_module_version": "1.5.0",
            "_view_count": null,
            "_view_module_version": "1.2.0",
            "_model_module": "@jupyter-widgets/controls"
          }
        },
        "564f24de1c5c476aaafe2e330a7db3d8": {
          "model_module": "@jupyter-widgets/base",
          "model_name": "LayoutModel",
          "state": {
            "_view_name": "LayoutView",
            "grid_template_rows": null,
            "right": null,
            "justify_content": null,
            "_view_module": "@jupyter-widgets/base",
            "overflow": null,
            "_model_module_version": "1.2.0",
            "_view_count": null,
            "flex_flow": null,
            "width": null,
            "min_width": null,
            "border": null,
            "align_items": null,
            "bottom": null,
            "_model_module": "@jupyter-widgets/base",
            "top": null,
            "grid_column": null,
            "overflow_y": null,
            "overflow_x": null,
            "grid_auto_flow": null,
            "grid_area": null,
            "grid_template_columns": null,
            "flex": null,
            "_model_name": "LayoutModel",
            "justify_items": null,
            "grid_row": null,
            "max_height": null,
            "align_content": null,
            "visibility": null,
            "align_self": null,
            "height": null,
            "min_height": null,
            "padding": null,
            "grid_auto_rows": null,
            "grid_gap": null,
            "max_width": null,
            "order": null,
            "_view_module_version": "1.2.0",
            "grid_template_areas": null,
            "object_position": null,
            "object_fit": null,
            "grid_auto_columns": null,
            "margin": null,
            "display": null,
            "left": null
          }
        },
        "c4ffd45d454446b8a914a0a389e1d557": {
          "model_module": "@jupyter-widgets/controls",
          "model_name": "ButtonStyleModel",
          "state": {
            "_view_name": "StyleView",
            "_model_name": "ButtonStyleModel",
            "_view_module": "@jupyter-widgets/base",
            "_model_module_version": "1.5.0",
            "_view_count": null,
            "button_color": null,
            "font_weight": "",
            "_view_module_version": "1.2.0",
            "_model_module": "@jupyter-widgets/controls"
          }
        },
        "74d39bb926e94518aa3e17730396a133": {
          "model_module": "@jupyter-widgets/base",
          "model_name": "LayoutModel",
          "state": {
            "_view_name": "LayoutView",
            "grid_template_rows": null,
            "right": null,
            "justify_content": null,
            "_view_module": "@jupyter-widgets/base",
            "overflow": null,
            "_model_module_version": "1.2.0",
            "_view_count": null,
            "flex_flow": null,
            "width": null,
            "min_width": null,
            "border": null,
            "align_items": null,
            "bottom": null,
            "_model_module": "@jupyter-widgets/base",
            "top": null,
            "grid_column": null,
            "overflow_y": null,
            "overflow_x": null,
            "grid_auto_flow": null,
            "grid_area": null,
            "grid_template_columns": null,
            "flex": null,
            "_model_name": "LayoutModel",
            "justify_items": null,
            "grid_row": null,
            "max_height": null,
            "align_content": null,
            "visibility": null,
            "align_self": null,
            "height": null,
            "min_height": null,
            "padding": null,
            "grid_auto_rows": null,
            "grid_gap": null,
            "max_width": null,
            "order": null,
            "_view_module_version": "1.2.0",
            "grid_template_areas": null,
            "object_position": null,
            "object_fit": null,
            "grid_auto_columns": null,
            "margin": null,
            "display": null,
            "left": null
          }
        },
        "5eb3862d80024324bdf137697bef063a": {
          "model_module": "@jupyter-widgets/controls",
          "model_name": "ButtonStyleModel",
          "state": {
            "_view_name": "StyleView",
            "_model_name": "ButtonStyleModel",
            "_view_module": "@jupyter-widgets/base",
            "_model_module_version": "1.5.0",
            "_view_count": null,
            "button_color": null,
            "font_weight": "",
            "_view_module_version": "1.2.0",
            "_model_module": "@jupyter-widgets/controls"
          }
        },
        "b1a4b10ceb9e4fa48c6261b881946dd5": {
          "model_module": "@jupyter-widgets/base",
          "model_name": "LayoutModel",
          "state": {
            "_view_name": "LayoutView",
            "grid_template_rows": null,
            "right": null,
            "justify_content": null,
            "_view_module": "@jupyter-widgets/base",
            "overflow": null,
            "_model_module_version": "1.2.0",
            "_view_count": null,
            "flex_flow": null,
            "width": null,
            "min_width": null,
            "border": null,
            "align_items": null,
            "bottom": null,
            "_model_module": "@jupyter-widgets/base",
            "top": null,
            "grid_column": null,
            "overflow_y": null,
            "overflow_x": null,
            "grid_auto_flow": null,
            "grid_area": null,
            "grid_template_columns": null,
            "flex": null,
            "_model_name": "LayoutModel",
            "justify_items": null,
            "grid_row": null,
            "max_height": null,
            "align_content": null,
            "visibility": null,
            "align_self": null,
            "height": null,
            "min_height": null,
            "padding": null,
            "grid_auto_rows": null,
            "grid_gap": null,
            "max_width": null,
            "order": null,
            "_view_module_version": "1.2.0",
            "grid_template_areas": null,
            "object_position": null,
            "object_fit": null,
            "grid_auto_columns": null,
            "margin": null,
            "display": null,
            "left": null
          }
        },
        "4120c05202b84f958e7b88bf8189f8b3": {
          "model_module": "@jupyter-widgets/controls",
          "model_name": "DescriptionStyleModel",
          "state": {
            "_view_name": "StyleView",
            "_model_name": "DescriptionStyleModel",
            "description_width": "",
            "_view_module": "@jupyter-widgets/base",
            "_model_module_version": "1.5.0",
            "_view_count": null,
            "_view_module_version": "1.2.0",
            "_model_module": "@jupyter-widgets/controls"
          }
        },
        "c3b05cdde86a44b59474c02b431c2166": {
          "model_module": "@jupyter-widgets/base",
          "model_name": "LayoutModel",
          "state": {
            "_view_name": "LayoutView",
            "grid_template_rows": null,
            "right": null,
            "justify_content": null,
            "_view_module": "@jupyter-widgets/base",
            "overflow": null,
            "_model_module_version": "1.2.0",
            "_view_count": null,
            "flex_flow": null,
            "width": null,
            "min_width": null,
            "border": null,
            "align_items": null,
            "bottom": null,
            "_model_module": "@jupyter-widgets/base",
            "top": null,
            "grid_column": null,
            "overflow_y": null,
            "overflow_x": null,
            "grid_auto_flow": null,
            "grid_area": null,
            "grid_template_columns": null,
            "flex": null,
            "_model_name": "LayoutModel",
            "justify_items": null,
            "grid_row": null,
            "max_height": null,
            "align_content": null,
            "visibility": null,
            "align_self": null,
            "height": null,
            "min_height": null,
            "padding": null,
            "grid_auto_rows": null,
            "grid_gap": null,
            "max_width": null,
            "order": null,
            "_view_module_version": "1.2.0",
            "grid_template_areas": null,
            "object_position": null,
            "object_fit": null,
            "grid_auto_columns": null,
            "margin": null,
            "display": null,
            "left": null
          }
        },
        "7388bbb6c8b14a79bd6938066a250810": {
          "model_module": "@jupyter-widgets/base",
          "model_name": "LayoutModel",
          "state": {
            "_view_name": "LayoutView",
            "grid_template_rows": null,
            "right": null,
            "justify_content": null,
            "_view_module": "@jupyter-widgets/base",
            "overflow": null,
            "_model_module_version": "1.2.0",
            "_view_count": null,
            "flex_flow": null,
            "width": null,
            "min_width": null,
            "border": null,
            "align_items": null,
            "bottom": null,
            "_model_module": "@jupyter-widgets/base",
            "top": null,
            "grid_column": null,
            "overflow_y": null,
            "overflow_x": null,
            "grid_auto_flow": null,
            "grid_area": null,
            "grid_template_columns": null,
            "flex": null,
            "_model_name": "LayoutModel",
            "justify_items": null,
            "grid_row": null,
            "max_height": null,
            "align_content": null,
            "visibility": null,
            "align_self": null,
            "height": null,
            "min_height": null,
            "padding": null,
            "grid_auto_rows": null,
            "grid_gap": null,
            "max_width": null,
            "order": null,
            "_view_module_version": "1.2.0",
            "grid_template_areas": null,
            "object_position": null,
            "object_fit": null,
            "grid_auto_columns": null,
            "margin": null,
            "display": null,
            "left": null
          }
        }
      }
    }
  },
  "cells": [
    {
      "cell_type": "code",
      "metadata": {
        "id": "slVgCXlSPWgr"
      },
      "source": [
        "#hide\n",
        "import fastai\n",
        "from fastai.vision.widgets import *"
      ],
      "execution_count": 1,
      "outputs": []
    },
    {
      "cell_type": "code",
      "metadata": {
        "id": "w8t3_AqQ_sVW",
        "outputId": "4e1bd55f-8a4e-4394-8a90-042c83573990",
        "colab": {
          "base_uri": "https://localhost:8080/",
          "height": 693
        }
      },
      "source": [
        ""
      ],
      "execution_count": 6,
      "outputs": [
        {
          "output_type": "stream",
          "text": [
            "Requirement already satisfied: voila in /usr/local/lib/python3.6/dist-packages (0.2.3)\n",
            "Requirement already satisfied: jupyter-client<7,>=6.1.3 in /usr/local/lib/python3.6/dist-packages (from voila) (6.1.7)\n",
            "Requirement already satisfied: nbconvert<7,>=6.0.0 in /usr/local/lib/python3.6/dist-packages (from voila) (6.0.7)\n",
            "Requirement already satisfied: jupyter-server<2.0.0,>=0.3.0 in /usr/local/lib/python3.6/dist-packages (from voila) (1.0.4)\n",
            "Requirement already satisfied: nbclient<0.6,>=0.4.0 in /usr/local/lib/python3.6/dist-packages (from voila) (0.5.0)\n",
            "Requirement already satisfied: tornado>=4.1 in /usr/local/lib/python3.6/dist-packages (from jupyter-client<7,>=6.1.3->voila) (5.1.1)\n",
            "Requirement already satisfied: pyzmq>=13 in /usr/local/lib/python3.6/dist-packages (from jupyter-client<7,>=6.1.3->voila) (19.0.2)\n",
            "Requirement already satisfied: jupyter-core>=4.6.0 in /usr/local/lib/python3.6/dist-packages (from jupyter-client<7,>=6.1.3->voila) (4.6.3)\n",
            "Requirement already satisfied: traitlets in /usr/local/lib/python3.6/dist-packages (from jupyter-client<7,>=6.1.3->voila) (4.3.3)\n",
            "Requirement already satisfied: python-dateutil>=2.1 in /usr/local/lib/python3.6/dist-packages (from jupyter-client<7,>=6.1.3->voila) (2.8.1)\n",
            "Requirement already satisfied: pygments>=2.4.1 in /usr/local/lib/python3.6/dist-packages (from nbconvert<7,>=6.0.0->voila) (2.6.1)\n",
            "Requirement already satisfied: jinja2>=2.4 in /usr/local/lib/python3.6/dist-packages (from nbconvert<7,>=6.0.0->voila) (2.11.2)\n",
            "Requirement already satisfied: mistune<2,>=0.8.1 in /usr/local/lib/python3.6/dist-packages (from nbconvert<7,>=6.0.0->voila) (0.8.4)\n",
            "Requirement already satisfied: jupyterlab-pygments in /usr/local/lib/python3.6/dist-packages (from nbconvert<7,>=6.0.0->voila) (0.1.2)\n",
            "Requirement already satisfied: bleach in /usr/local/lib/python3.6/dist-packages (from nbconvert<7,>=6.0.0->voila) (3.2.1)\n",
            "Requirement already satisfied: defusedxml in /usr/local/lib/python3.6/dist-packages (from nbconvert<7,>=6.0.0->voila) (0.6.0)\n",
            "Requirement already satisfied: entrypoints>=0.2.2 in /usr/local/lib/python3.6/dist-packages (from nbconvert<7,>=6.0.0->voila) (0.3)\n",
            "Requirement already satisfied: nbformat>=4.4 in /usr/local/lib/python3.6/dist-packages (from nbconvert<7,>=6.0.0->voila) (5.0.7)\n",
            "Requirement already satisfied: pandocfilters>=1.4.1 in /usr/local/lib/python3.6/dist-packages (from nbconvert<7,>=6.0.0->voila) (1.4.2)\n",
            "Requirement already satisfied: testpath in /usr/local/lib/python3.6/dist-packages (from nbconvert<7,>=6.0.0->voila) (0.4.4)\n",
            "Requirement already satisfied: terminado>=0.8.3 in /usr/local/lib/python3.6/dist-packages (from jupyter-server<2.0.0,>=0.3.0->voila) (0.9.1)\n",
            "Requirement already satisfied: Send2Trash in /usr/local/lib/python3.6/dist-packages (from jupyter-server<2.0.0,>=0.3.0->voila) (1.5.0)\n",
            "Requirement already satisfied: prometheus-client in /usr/local/lib/python3.6/dist-packages (from jupyter-server<2.0.0,>=0.3.0->voila) (0.8.0)\n",
            "Requirement already satisfied: ipython-genutils in /usr/local/lib/python3.6/dist-packages (from jupyter-server<2.0.0,>=0.3.0->voila) (0.2.0)\n",
            "Requirement already satisfied: nest-asyncio in /usr/local/lib/python3.6/dist-packages (from nbclient<0.6,>=0.4.0->voila) (1.4.1)\n",
            "Requirement already satisfied: async-generator in /usr/local/lib/python3.6/dist-packages (from nbclient<0.6,>=0.4.0->voila) (1.10)\n",
            "Requirement already satisfied: decorator in /usr/local/lib/python3.6/dist-packages (from traitlets->jupyter-client<7,>=6.1.3->voila) (4.4.2)\n",
            "Requirement already satisfied: six in /usr/local/lib/python3.6/dist-packages (from traitlets->jupyter-client<7,>=6.1.3->voila) (1.15.0)\n",
            "Requirement already satisfied: MarkupSafe>=0.23 in /usr/local/lib/python3.6/dist-packages (from jinja2>=2.4->nbconvert<7,>=6.0.0->voila) (1.1.1)\n",
            "Requirement already satisfied: packaging in /usr/local/lib/python3.6/dist-packages (from bleach->nbconvert<7,>=6.0.0->voila) (20.4)\n",
            "Requirement already satisfied: webencodings in /usr/local/lib/python3.6/dist-packages (from bleach->nbconvert<7,>=6.0.0->voila) (0.5.1)\n",
            "Requirement already satisfied: jsonschema!=2.5.0,>=2.4 in /usr/local/lib/python3.6/dist-packages (from nbformat>=4.4->nbconvert<7,>=6.0.0->voila) (2.6.0)\n",
            "Requirement already satisfied: ptyprocess; os_name != \"nt\" in /usr/local/lib/python3.6/dist-packages (from terminado>=0.8.3->jupyter-server<2.0.0,>=0.3.0->voila) (0.6.0)\n",
            "Requirement already satisfied: pyparsing>=2.0.2 in /usr/local/lib/python3.6/dist-packages (from packaging->bleach->nbconvert<7,>=6.0.0->voila) (2.4.7)\n",
            "Enabling: voila\n",
            "- Writing config: /usr/etc/jupyter\n",
            "    - Validating...\n",
            "Error loading server extension voila\n",
            "     \u001b[31m X\u001b[0m is voila importable?\n"
          ],
          "name": "stdout"
        }
      ]
    },
    {
      "cell_type": "code",
      "metadata": {
        "id": "BLs8vgw64ldd",
        "outputId": "6f28a957-7be0-45d4-d88a-50e2af9820ab",
        "colab": {
          "base_uri": "https://localhost:8080/",
          "height": 212,
          "referenced_widgets": [
            "8936f52a6b884cf5a110f6bde668bae5",
            "c7d84dc3779c44da95a5e2c3a55bd789",
            "a0326c8372f74009a9282a3db7970418",
            "319a8356c4844a4fa27d3ec44432d610",
            "7b744b8acebb4f17b93f9aabf253cacd",
            "e722e89de09e41eeb328c4d6487264a0",
            "4c190904ce6345fa96cb0305fafb4783",
            "6c9adbb23c8140639d11e94e72c4aa37",
            "564f24de1c5c476aaafe2e330a7db3d8",
            "c4ffd45d454446b8a914a0a389e1d557",
            "74d39bb926e94518aa3e17730396a133",
            "5eb3862d80024324bdf137697bef063a",
            "b1a4b10ceb9e4fa48c6261b881946dd5",
            "4120c05202b84f958e7b88bf8189f8b3",
            "c3b05cdde86a44b59474c02b431c2166",
            "7388bbb6c8b14a79bd6938066a250810"
          ]
        }
      },
      "source": [
        "learn_inf = load_learner('export.pkl')\n",
        "out_pl = widgets.Output()\n",
        "lbl_pred = widgets.Label()\n",
        "\n",
        "def on_click_classify(change):\n",
        "    img = PILImage.create(btn_upload.data[-1])\n",
        "    out_pl.clear_output()\n",
        "    with out_pl: display(img.to_thumb(128,128))\n",
        "    pred,pred_idx,probs = learn_inf.predict(img)\n",
        "    lbl_pred.value = f'Prediction: {pred}; Probability: {probs[pred_idx]:.04f}'\n",
        "\n",
        "btn_run = widgets.Button(description='Classify')\n",
        "btn_run.on_click(on_click_classify)\n",
        "btn_upload = widgets.FileUpload()\n",
        "\n",
        "VBox([widgets.Label('Upload your Simpson character!'), btn_upload, btn_run, out_pl, lbl_pred])"
      ],
      "execution_count": 13,
      "outputs": [
        {
          "output_type": "display_data",
          "data": {
            "application/vnd.jupyter.widget-view+json": {
              "model_id": "8936f52a6b884cf5a110f6bde668bae5",
              "version_minor": 0,
              "version_major": 2
            },
            "text/plain": [
              "VBox(children=(Label(value='Upload your Simpson character!'), FileUpload(value={}, description='Upload'), Butt…"
            ]
          },
          "metadata": {
            "tags": []
          }
        },
        {
          "output_type": "display_data",
          "data": {
            "text/html": [
              ""
            ],
            "text/plain": [
              "<IPython.core.display.HTML object>"
            ]
          },
          "metadata": {
            "tags": []
          }
        }
      ]
    }
  ]
}